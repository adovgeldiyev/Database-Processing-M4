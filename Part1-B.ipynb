{
 "cells": [
  {
   "cell_type": "code",
   "execution_count": 2,
   "metadata": {},
   "outputs": [],
   "source": [
    "import sqlite3"
   ]
  },
  {
   "cell_type": "code",
   "execution_count": 3,
   "metadata": {},
   "outputs": [],
   "source": [
    "def notCommon():\n",
    "    with open(\"../HW4/animal.txt\",\"r\") as inFile:\n",
    "        table = inFile.readlines()\n",
    "        for attr in table:\n",
    "            attr = attr.strip()\n",
    "            schema = attr.split(',')\n",
    "            if ('tiger' in schema[1] and 'common' not in schema[2]):\n",
    "                print(schema[1])"
   ]
  },
  {
   "cell_type": "code",
   "execution_count": 4,
   "metadata": {},
   "outputs": [
    {
     "name": "stdout",
     "output_type": "stream",
     "text": [
      " Siberian tiger\n",
      " South China tiger\n"
     ]
    }
   ],
   "source": [
    "notCommon()"
   ]
  },
  {
   "cell_type": "code",
   "execution_count": 6,
   "metadata": {},
   "outputs": [],
   "source": [
    "def notRelated():\n",
    "    with open(\"../HW4/animal.txt\",\"r\") as inFile:\n",
    "        table = inFile.readlines()\n",
    "        for attr in table:\n",
    "            attr = attr.strip()\n",
    "            schema = attr.split(',')\n",
    "            if ('tiger' not in schema[1]):\n",
    "                print(schema[1])"
   ]
  },
  {
   "cell_type": "code",
   "execution_count": 7,
   "metadata": {},
   "outputs": [
    {
     "name": "stdout",
     "output_type": "stream",
     "text": [
      " Galapagos Penguin\n",
      " Emperor Penguin\n",
      " Sri Lankan sloth bear\n",
      " Grizzly bear\n",
      " Giant Panda bear\n",
      " Florida black bear\n",
      " Alpaca\n",
      " Llama\n"
     ]
    }
   ],
   "source": [
    "notRelated()"
   ]
  },
  {
   "cell_type": "code",
   "execution_count": 8,
   "metadata": {},
   "outputs": [],
   "source": [
    "empTable=\"\"\"\n",
    "CREATE Table Employer (\n",
    "    FName VARCHAR(25) not null,\n",
    "    LName Varchar(25) not null,\n",
    "    address Varchar(50),\n",
    "    Primary Key(FName, LName)\n",
    ");\n",
    "\"\"\"\n",
    "jobTable = \"\"\"\n",
    "CREATE Table Job (\n",
    "    Job_name VARCHAR(25) not null,\n",
    "    Salary Numeric(25) not null,\n",
    "    assistant Varchar(50),\n",
    "    Primary Key(Job_name)\n",
    ");\n",
    "\"\"\"\n",
    "infoTable = \"\"\"\n",
    "CREATE Table Information (\n",
    "    I_fname VARCHAR(25) not null,\n",
    "    I_lname Varchar(25) not null,\n",
    "    I_jobname Varchar(50),\n",
    "    Primary Key(I_fname, I_lname,I_jobname),\n",
    "    Foreign Key(I_fname, I_lname)\n",
    "    References Employer(FName,LName),\n",
    "    Foreign Key(I_jobname)\n",
    "    References Job(Job_name)\n",
    ");\n",
    "\"\"\""
   ]
  },
  {
   "cell_type": "code",
   "execution_count": 9,
   "metadata": {},
   "outputs": [],
   "source": [
    "conn = sqlite3.connect('dsc450.db')\n",
    "c1 = conn.cursor()\n",
    "c2 = conn.cursor()\n",
    "c3 = conn.cursor()"
   ]
  },
  {
   "cell_type": "code",
   "execution_count": 10,
   "metadata": {},
   "outputs": [
    {
     "ename": "OperationalError",
     "evalue": "no such table: Employer",
     "output_type": "error",
     "traceback": [
      "\u001b[1;31m---------------------------------------------------------------------------\u001b[0m",
      "\u001b[1;31mOperationalError\u001b[0m                          Traceback (most recent call last)",
      "\u001b[1;32m<ipython-input-10-409b459d2ce4>\u001b[0m in \u001b[0;36m<module>\u001b[1;34m\u001b[0m\n\u001b[1;32m----> 1\u001b[1;33m \u001b[0mc1\u001b[0m\u001b[1;33m.\u001b[0m\u001b[0mexecute\u001b[0m\u001b[1;33m(\u001b[0m\u001b[1;34m\"DROP TABLE Employer\"\u001b[0m\u001b[1;33m)\u001b[0m\u001b[1;33m\u001b[0m\u001b[1;33m\u001b[0m\u001b[0m\n\u001b[0m\u001b[0;32m      2\u001b[0m \u001b[0mc2\u001b[0m\u001b[1;33m.\u001b[0m\u001b[0mexecute\u001b[0m\u001b[1;33m(\u001b[0m\u001b[1;34m\"DROP TABLE Job\"\u001b[0m\u001b[1;33m)\u001b[0m\u001b[1;33m\u001b[0m\u001b[1;33m\u001b[0m\u001b[0m\n\u001b[0;32m      3\u001b[0m \u001b[0mc3\u001b[0m\u001b[1;33m.\u001b[0m\u001b[0mexecute\u001b[0m\u001b[1;33m(\u001b[0m\u001b[1;34m\"DROP TABLE Information\"\u001b[0m\u001b[1;33m)\u001b[0m\u001b[1;33m\u001b[0m\u001b[1;33m\u001b[0m\u001b[0m\n",
      "\u001b[1;31mOperationalError\u001b[0m: no such table: Employer"
     ]
    }
   ],
   "source": [
    "c1.execute(\"DROP TABLE Employer\")\n",
    "c2.execute(\"DROP TABLE Job\")\n",
    "c3.execute(\"DROP TABLE Information\")"
   ]
  },
  {
   "cell_type": "code",
   "execution_count": 11,
   "metadata": {},
   "outputs": [
    {
     "data": {
      "text/plain": [
       "<sqlite3.Cursor at 0x199973d8a40>"
      ]
     },
     "execution_count": 11,
     "metadata": {},
     "output_type": "execute_result"
    }
   ],
   "source": [
    "c1.execute(empTable)\n",
    "c2.execute(jobTable)\n",
    "c3.execute(infoTable)"
   ]
  },
  {
   "cell_type": "code",
   "execution_count": 12,
   "metadata": {},
   "outputs": [],
   "source": [
    "ins1 = \"INSERT OR IGNORE INTO Employer VALUES('%s','%s', '%s');\"\n",
    "ins2 = \"INSERT OR IGNORE INTO Job VALUES(?, ?, ?);\"\n",
    "ins3 = \"INSERT OR IGNORE INTO Information VALUES(?, ?, ?);\""
   ]
  },
  {
   "cell_type": "code",
   "execution_count": 14,
   "metadata": {},
   "outputs": [],
   "source": [
    "with open(\"../HW4/data_module4_part2.txt\", 'r') as inFile:\n",
    "    db = inFile.readlines()\n",
    "    for row in db:\n",
    "        attr = row.strip().split(', ')\n",
    "        c1.execute(ins1 % (attr[0], attr[1], attr[2]))\n",
    "        c2.execute(ins2, (attr[3], attr[4], attr[5]))\n",
    "        c3.execute(ins3, (attr[0], attr[1], attr[3]))\n",
    "output1 = c1.execute('SELECT * FROM Employer')\n",
    "output2 = c2.execute('SELECT * FROM Job')\n",
    "output3 = c3.execute('SELECT * FROM Information')"
   ]
  },
  {
   "cell_type": "code",
   "execution_count": 15,
   "metadata": {},
   "outputs": [],
   "source": [
    "inFile.close()\n",
    "conn.commit()"
   ]
  },
  {
   "cell_type": "code",
   "execution_count": 16,
   "metadata": {},
   "outputs": [],
   "source": [
    "e1 = output1.fetchall()\n",
    "j2 = output2.fetchall()\n",
    "i3 = output3.fetchall()"
   ]
  },
  {
   "cell_type": "code",
   "execution_count": 17,
   "metadata": {},
   "outputs": [
    {
     "name": "stdout",
     "output_type": "stream",
     "text": [
      "SELECT * FROM Employer; \n",
      "[('John', 'Smith', '111 N. Wabash Avenue'), ('Jane', 'Doe', '243 S. Wabash Avenue'), ('Mike', 'Jackson', '1 Michigan Avenue'), ('Mary', 'Who', '20 S. Michigan Avenue')]\n",
      "SELECT * FROM Employer; \n",
      "[('plumber', 40000, 'NULL'), ('bouncer', 35000, 'NULL'), ('waitress', 50000, 'Yes'), ('accountant', 42000, 'Yes'), ('risk analyst', 80000, 'Yes')]\n",
      "SELECT * FROM Employer; \n",
      "[('John', 'Smith', 'plumber'), ('John', 'Smith', 'bouncer'), ('Jane', 'Doe', 'waitress'), ('Jane', 'Doe', 'accountant'), ('Jane', 'Doe', 'bouncer'), ('Mike', 'Jackson', 'accountant'), ('Mike', 'Jackson', 'plumber'), ('Mary', 'Who', 'accountant'), ('Mary', 'Who', 'risk analyst')]\n"
     ]
    }
   ],
   "source": [
    "print('SELECT * FROM Employer; \\n' +str(e1))\n",
    "print('SELECT * FROM Employer; \\n' +str(j2))\n",
    "print('SELECT * FROM Employer; \\n' +str(i3))"
   ]
  },
  {
   "cell_type": "code",
   "execution_count": 18,
   "metadata": {},
   "outputs": [],
   "source": [
    "conn.close()"
   ]
  },
  {
   "cell_type": "code",
   "execution_count": null,
   "metadata": {},
   "outputs": [],
   "source": []
  }
 ],
 "metadata": {
  "kernelspec": {
   "display_name": "Python 3.7.3 64-bit ('14023': virtualenv)",
   "language": "python",
   "name": "python37364bit14023virtualenv43d760947b1c41cea019d510c4f98b52"
  },
  "language_info": {
   "codemirror_mode": {
    "name": "ipython",
    "version": 3
   },
   "file_extension": ".py",
   "mimetype": "text/x-python",
   "name": "python",
   "nbconvert_exporter": "python",
   "pygments_lexer": "ipython3",
   "version": "3.7.3"
  }
 },
 "nbformat": 4,
 "nbformat_minor": 4
}
